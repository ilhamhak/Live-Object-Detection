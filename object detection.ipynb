{
 "cells": [
  {
   "cell_type": "markdown",
   "id": "622ae194",
   "metadata": {},
   "source": [
    "<img src=\"images/1.png\">"
   ]
  },
  {
   "cell_type": "markdown",
   "id": "c2791d7e",
   "metadata": {},
   "source": [
    "<img src=\"images/2.png\">"
   ]
  },
  {
   "cell_type": "markdown",
   "id": "37ff2169",
   "metadata": {},
   "source": [
    "<img src=\"images/3.png\">"
   ]
  },
  {
   "cell_type": "markdown",
   "id": "53ce2719",
   "metadata": {},
   "source": [
    "<img src=\"images/4.png\">"
   ]
  },
  {
   "cell_type": "markdown",
   "id": "9c8c2cfc",
   "metadata": {},
   "source": [
    "<img src=\"images/5.png\">"
   ]
  },
  {
   "cell_type": "markdown",
   "id": "54196f61",
   "metadata": {},
   "source": [
    "<img src=\"images/6.png\">"
   ]
  },
  {
   "cell_type": "markdown",
   "id": "82a927b7",
   "metadata": {},
   "source": [
    "<img src=\"images/7.png\">"
   ]
  },
  {
   "cell_type": "markdown",
   "id": "a0e03ad8",
   "metadata": {},
   "source": [
    "<img src=\"images/8.png\">"
   ]
  },
  {
   "cell_type": "markdown",
   "id": "d04b1e93",
   "metadata": {},
   "source": [
    "<img src=\"images/bully x joker c.png\">"
   ]
  },
  {
   "cell_type": "code",
   "execution_count": 2,
   "id": "a4723033",
   "metadata": {},
   "outputs": [
    {
     "ename": "AttributeError",
     "evalue": "'numpy.ndarray' object has no attribute 'read'",
     "output_type": "error",
     "traceback": [
      "\u001b[1;31m---------------------------------------------------------------------------\u001b[0m",
      "\u001b[1;31mAttributeError\u001b[0m                            Traceback (most recent call last)",
      "Cell \u001b[1;32mIn [2], line 16\u001b[0m\n\u001b[0;32m     13\u001b[0m colors \u001b[39m=\u001b[39m np\u001b[39m.\u001b[39mrandom\u001b[39m.\u001b[39muniform(\u001b[39m0\u001b[39m, \u001b[39m255\u001b[39m, size\u001b[39m=\u001b[39m(\u001b[39m100\u001b[39m, \u001b[39m3\u001b[39m))\n\u001b[0;32m     15\u001b[0m \u001b[39mwhile\u001b[39;00m \u001b[39mTrue\u001b[39;00m:\n\u001b[1;32m---> 16\u001b[0m     ret, frame \u001b[39m=\u001b[39m vid\u001b[39m.\u001b[39;49mread()\n\u001b[0;32m     17\u001b[0m     height, width, _ \u001b[39m=\u001b[39m img\u001b[39m.\u001b[39mshape\n\u001b[0;32m     19\u001b[0m     blob \u001b[39m=\u001b[39m cv2\u001b[39m.\u001b[39mdnn\u001b[39m.\u001b[39mblobFromImage(frame, \u001b[39m1\u001b[39m\u001b[39m/\u001b[39m\u001b[39m255\u001b[39m, (\u001b[39m416\u001b[39m, \u001b[39m416\u001b[39m), (\u001b[39m0\u001b[39m,\u001b[39m0\u001b[39m,\u001b[39m0\u001b[39m), swapRB\u001b[39m=\u001b[39m\u001b[39mTrue\u001b[39;00m, crop\u001b[39m=\u001b[39m\u001b[39mFalse\u001b[39;00m)\n",
      "\u001b[1;31mAttributeError\u001b[0m: 'numpy.ndarray' object has no attribute 'read'"
     ]
    }
   ],
   "source": [
    "import cv2\n",
    "import numpy as np\n",
    "\n",
    "net = cv2.dnn.readNet('yolov3-tiny.weights', 'yolov3-tiny.cfg')\n",
    "\n",
    "classes = []\n",
    "with open(\"coco.names\", \"r\") as f:\n",
    "    classes = f.read().splitlines()\n",
    "\n",
    "vid = cv2.VideoCapture('test videos/bully maguire.mp4')\n",
    "font = cv2.FONT_HERSHEY_PLAIN\n",
    "colors = np.random.uniform(0, 255, size=(100, 3))\n",
    "\n",
    "while True:\n",
    "    ret, frame = vid.read()\n",
    "    height, width, _ = frame.shape\n",
    "\n",
    "    blob = cv2.dnn.blobFromImage(frame, 1/255, (416, 416), (0,0,0), swapRB=True, crop=False)\n",
    "    net.setInput(blob)\n",
    "    output_layers_names = net.getUnconnectedOutLayersNames()\n",
    "    layerOutputs = net.forward(output_layers_names)\n",
    "\n",
    "    boxes = []\n",
    "    confidences = []\n",
    "    class_ids = []\n",
    "\n",
    "    for output in layerOutputs:\n",
    "        for detection in output:\n",
    "            scores = detection[5:]\n",
    "            class_id = np.argmax(scores)\n",
    "            confidence = scores[class_id]\n",
    "            if confidence > 0.2:\n",
    "                center_x = int(detection[0]*width)\n",
    "                center_y = int(detection[1]*height)\n",
    "                w = int(detection[2]*width)\n",
    "                h = int(detection[3]*height)\n",
    "\n",
    "                x = int(center_x - w/2)\n",
    "                y = int(center_y - h/2)\n",
    "\n",
    "                boxes.append([x, y, w, h])\n",
    "                confidences.append((float(confidence)))\n",
    "                class_ids.append(class_id)\n",
    "\n",
    "    indexes = cv2.dnn.NMSBoxes(boxes, confidences, 0.2, 0.4)\n",
    "\n",
    "    if len(indexes)>0:\n",
    "        for i in indexes.flatten():\n",
    "            x, y, w, h = boxes[i]\n",
    "            label = str(classes[class_ids[i]])\n",
    "            confidence = str(round(confidences[i],2))\n",
    "            color = colors[i]\n",
    "            cv2.rectangle(frame, (x,y), (x+w, y+h), color, 2)\n",
    "            cv2.putText(frame, label + \" \" + confidence, (x, y+20), font, 2, (255,255,255), 2)\n",
    "\n",
    "    cv2.imshow('Webcam', frame)\n",
    "    if cv2.waitKey(1) & 0xFF == ord('q'):\n",
    "        break\n",
    "\n",
    "vid.release()\n",
    "cv2.destroyAllWindows()"
   ]
  }
 ],
 "metadata": {
  "kernelspec": {
   "display_name": "Python 3.10.0 64-bit",
   "language": "python",
   "name": "python3"
  },
  "language_info": {
   "codemirror_mode": {
    "name": "ipython",
    "version": 3
   },
   "file_extension": ".py",
   "mimetype": "text/x-python",
   "name": "python",
   "nbconvert_exporter": "python",
   "pygments_lexer": "ipython3",
   "version": "3.10.0"
  },
  "vscode": {
   "interpreter": {
    "hash": "7884d8c81366a410e2be7de0566584f2f9896c8fa606632454ad6d0f4365d044"
   }
  }
 },
 "nbformat": 4,
 "nbformat_minor": 5
}
