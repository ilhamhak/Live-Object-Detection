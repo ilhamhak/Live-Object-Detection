{
 "cells": [
  {
   "cell_type": "markdown",
   "id": "e3f342ba",
   "metadata": {},
   "source": [
    "# Live Object Detection"
   ]
  },
  {
   "cell_type": "markdown",
   "id": "f33053c9",
   "metadata": {},
   "source": [
    "#### Goal"
   ]
  },
  {
   "cell_type": "markdown",
   "id": "3c4564e0",
   "metadata": {},
   "source": [
    "\n",
    "<img src=\"images/goal.png\">"
   ]
  },
  {
   "cell_type": "markdown",
   "id": "d5b251f3",
   "metadata": {},
   "source": [
    "#### Anchor Boxes"
   ]
  },
  {
   "cell_type": "markdown",
   "id": "622ae194",
   "metadata": {},
   "source": [
    "\n",
    "<img src=\"images/1.png\">"
   ]
  },
  {
   "cell_type": "markdown",
   "id": "c2791d7e",
   "metadata": {},
   "source": [
    "<img src=\"images/2.png\">\n",
    "IMAGE (m, 608, 608,3) -> DEEP CNN -> ENCODING (m, 19, 19, anchors, classes)"
   ]
  },
  {
   "cell_type": "markdown",
   "id": "37ff2169",
   "metadata": {},
   "source": [
    "<img src=\"images/3.png\">"
   ]
  },
  {
   "cell_type": "markdown",
   "id": "41f7d2a0",
   "metadata": {},
   "source": [
    "#### Class Score"
   ]
  },
  {
   "cell_type": "markdown",
   "id": "53ce2719",
   "metadata": {},
   "source": [
    "\n",
    "<img src=\"images/4.png\">\n",
    "probability that a box contains a certain class. (probability there is an object * class probability)"
   ]
  },
  {
   "cell_type": "markdown",
   "id": "703deba2",
   "metadata": {},
   "source": [
    "#### Visualizing Classes"
   ]
  },
  {
   "cell_type": "markdown",
   "id": "9c8c2cfc",
   "metadata": {},
   "source": [
    "\n",
    "<img src=\"images/5.png\">\n",
    "Just one example of how.... coloring grids."
   ]
  },
  {
   "cell_type": "markdown",
   "id": "3c6722c9",
   "metadata": {},
   "source": [
    "#### Visualizing Bounding Boxes"
   ]
  },
  {
   "cell_type": "markdown",
   "id": "54196f61",
   "metadata": {},
   "source": [
    "\n",
    "<img src=\"images/6.png\">\n",
    "Each cell gives 5 boxes! the model thus predicts 19x19x5 = 1805 boxes just looking once. (YOLO)"
   ]
  },
  {
   "cell_type": "markdown",
   "id": "385d3f15",
   "metadata": {},
   "source": [
    "#### Non-max Supression"
   ]
  },
  {
   "cell_type": "markdown",
   "id": "82a927b7",
   "metadata": {},
   "source": [
    "\n",
    "<img src=\"images/7.png\">\n",
    "gets rid of boxes with a low score; probability of object or of class"
   ]
  },
  {
   "cell_type": "markdown",
   "id": "a0e03ad8",
   "metadata": {},
   "source": [
    "<img src=\"images/8.png\">"
   ]
  },
  {
   "cell_type": "markdown",
   "id": "19ad48cc",
   "metadata": {},
   "source": [
    "### Applying YOLO using OPENCV"
   ]
  },
  {
   "cell_type": "code",
   "execution_count": 2,
   "id": "74d2a917",
   "metadata": {},
   "outputs": [],
   "source": [
    "import cv2\n",
    "import numpy as np\n",
    "\n",
    "net = cv2.dnn.readNet('yolov3-spp.weights', 'yolov3-spp.cfg')\n",
    "\n",
    "classes = []\n",
    "with open(\"coco.names\", \"r\") as f:\n",
    "    classes = f.read().splitlines()"
   ]
  },
  {
   "cell_type": "markdown",
   "id": "97a8ba4b",
   "metadata": {},
   "source": [
    "#### Images"
   ]
  },
  {
   "cell_type": "code",
   "execution_count": 7,
   "id": "1ede1785",
   "metadata": {},
   "outputs": [],
   "source": [
    "img = cv2.imread('images/bully x joker.jpg')\n",
    "font = cv2.FONT_HERSHEY_PLAIN\n",
    "colors = np.random.uniform(0, 255, size=(100, 3))\n",
    "\n",
    "height, width, _ = img.shape\n",
    "\n",
    "blob = cv2.dnn.blobFromImage(img, 1/255, (416, 416), (0,0,0), swapRB=True, crop=False)\n",
    "net.setInput(blob)\n",
    "output_layers_names = net.getUnconnectedOutLayersNames()\n",
    "layerOutputs = net.forward(output_layers_names)\n",
    "\n",
    "boxes = []\n",
    "confidences = []\n",
    "class_ids = []\n",
    "\n",
    "for output in layerOutputs:\n",
    "    for detection in output:\n",
    "        scores = detection[5:]\n",
    "        class_id = np.argmax(scores)\n",
    "        confidence = scores[class_id]\n",
    "        if confidence > 0.2:\n",
    "            center_x = int(detection[0]*width)\n",
    "            center_y = int(detection[1]*height)\n",
    "            w = int(detection[2]*width)\n",
    "            h = int(detection[3]*height)\n",
    "\n",
    "            x = int(center_x - w/2)\n",
    "            y = int(center_y - h/2)\n",
    "\n",
    "            boxes.append([x, y, w, h])\n",
    "            confidences.append((float(confidence)))\n",
    "            class_ids.append(class_id)\n",
    "\n",
    "indexes = cv2.dnn.NMSBoxes(boxes, confidences, 0.2, 0.4)\n",
    "\n",
    "if len(indexes)>0:\n",
    "    for i in indexes.flatten():\n",
    "        x, y, w, h = boxes[i]\n",
    "        label = str(classes[class_ids[i]])\n",
    "        confidence = str(round(confidences[i],2))\n",
    "        color = colors[i]\n",
    "        cv2.rectangle(img, (x,y), (x+w, y+h), color, 2)\n",
    "        cv2.putText(img, label + \" \" + confidence, (x, y+20), font, 2, (255,255,255), 2)\n",
    "\n",
    "cv2.imshow('Image', img)\n",
    "cv2.waitKey(0)\n",
    "cv2.destroyAllWindows()"
   ]
  },
  {
   "cell_type": "markdown",
   "id": "ce7e5220",
   "metadata": {},
   "source": [
    "#### Videos/Live"
   ]
  },
  {
   "cell_type": "code",
   "execution_count": 1,
   "id": "a4723033",
   "metadata": {},
   "outputs": [
    {
     "ename": "NameError",
     "evalue": "name 'cv2' is not defined",
     "output_type": "error",
     "traceback": [
      "\u001b[1;31m---------------------------------------------------------------------------\u001b[0m",
      "\u001b[1;31mNameError\u001b[0m                                 Traceback (most recent call last)",
      "Cell \u001b[1;32mIn [1], line 1\u001b[0m\n\u001b[1;32m----> 1\u001b[0m vid \u001b[39m=\u001b[39m cv2\u001b[39m.\u001b[39mimread(\u001b[39m'\u001b[39m\u001b[39mimages/bully x joker.jpg\u001b[39m\u001b[39m'\u001b[39m)\n\u001b[0;32m      2\u001b[0m font \u001b[39m=\u001b[39m cv2\u001b[39m.\u001b[39mFONT_HERSHEY_PLAIN\n\u001b[0;32m      3\u001b[0m colors \u001b[39m=\u001b[39m np\u001b[39m.\u001b[39mrandom\u001b[39m.\u001b[39muniform(\u001b[39m0\u001b[39m, \u001b[39m255\u001b[39m, size\u001b[39m=\u001b[39m(\u001b[39m100\u001b[39m, \u001b[39m3\u001b[39m))\n",
      "\u001b[1;31mNameError\u001b[0m: name 'cv2' is not defined"
     ]
    }
   ],
   "source": [
    "vid = cv2.VideoCapture('test videos/bully maguire.mp4')\n",
    "font = cv2.FONT_HERSHEY_PLAIN\n",
    "colors = np.random.uniform(0, 255, size=(100, 3))\n",
    "\n",
    "while True:\n",
    "    ret, frame = vid.read()\n",
    "    height, width, _ = frame.shape\n",
    "\n",
    "    blob = cv2.dnn.blobFromImage(frame, 1/255, (416, 416), (0,0,0), swapRB=True, crop=False)\n",
    "    net.setInput(blob)\n",
    "    output_layers_names = net.getUnconnectedOutLayersNames()\n",
    "    layerOutputs = net.forward(output_layers_names)\n",
    "\n",
    "    boxes = []\n",
    "    confidences = []\n",
    "    class_ids = []\n",
    "\n",
    "    for output in layerOutputs:\n",
    "        for detection in output:\n",
    "            scores = detection[5:]\n",
    "            class_id = np.argmax(scores)\n",
    "            confidence = scores[class_id]\n",
    "            if confidence > 0.2:\n",
    "                center_x = int(detection[0]*width)\n",
    "                center_y = int(detection[1]*height)\n",
    "                w = int(detection[2]*width)\n",
    "                h = int(detection[3]*height)\n",
    "\n",
    "                x = int(center_x - w/2)\n",
    "                y = int(center_y - h/2)\n",
    "\n",
    "                boxes.append([x, y, w, h])\n",
    "                confidences.append((float(confidence)))\n",
    "                class_ids.append(class_id)\n",
    "\n",
    "    indexes = cv2.dnn.NMSBoxes(boxes, confidences, 0.2, 0.4)\n",
    "\n",
    "    if len(indexes)>0:\n",
    "        for i in indexes.flatten():\n",
    "            x, y, w, h = boxes[i]\n",
    "            label = str(classes[class_ids[i]])\n",
    "            confidence = str(round(confidences[i],2))\n",
    "            color = colors[i]\n",
    "            cv2.rectangle(frame, (x,y), (x+w, y+h), color, 2)\n",
    "            cv2.putText(frame, label + \" \" + confidence, (x, y+20), font, 2, (255,255,255), 2)\n",
    "\n",
    "    cv2.imshow('Webcam', frame)\n",
    "    if cv2.waitKey(1) & 0xFF == ord('q'):\n",
    "        break\n",
    "\n",
    "vid.release()\n",
    "cv2.destroyAllWindows()"
   ]
  }
 ],
 "metadata": {
  "kernelspec": {
   "display_name": "Python 3.10.0 64-bit",
   "language": "python",
   "name": "python3"
  },
  "language_info": {
   "codemirror_mode": {
    "name": "ipython",
    "version": 3
   },
   "file_extension": ".py",
   "mimetype": "text/x-python",
   "name": "python",
   "nbconvert_exporter": "python",
   "pygments_lexer": "ipython3",
   "version": "3.10.0"
  },
  "vscode": {
   "interpreter": {
    "hash": "7884d8c81366a410e2be7de0566584f2f9896c8fa606632454ad6d0f4365d044"
   }
  }
 },
 "nbformat": 4,
 "nbformat_minor": 5
}
